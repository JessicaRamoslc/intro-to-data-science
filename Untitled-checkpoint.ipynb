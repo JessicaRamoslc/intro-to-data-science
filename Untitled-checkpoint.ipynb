{
 "cells": [
  {
   "cell_type": "code",
   "execution_count": 18,
   "metadata": {},
   "outputs": [],
   "source": [
    "import pandas as pd"
   ]
  },
  {
   "cell_type": "code",
   "execution_count": 20,
   "metadata": {},
   "outputs": [],
   "source": [
    "from matplotlib import pyplot as plt"
   ]
  },
  {
   "cell_type": "code",
   "execution_count": 21,
   "metadata": {},
   "outputs": [],
   "source": [
    "iris = pd.read_csv(\"iris.csv\")"
   ]
  },
  {
   "cell_type": "code",
   "execution_count": 22,
   "metadata": {},
   "outputs": [
    {
     "data": {
      "text/html": [
       "<div>\n",
       "<style scoped>\n",
       "    .dataframe tbody tr th:only-of-type {\n",
       "        vertical-align: middle;\n",
       "    }\n",
       "\n",
       "    .dataframe tbody tr th {\n",
       "        vertical-align: top;\n",
       "    }\n",
       "\n",
       "    .dataframe thead th {\n",
       "        text-align: right;\n",
       "    }\n",
       "</style>\n",
       "<table border=\"1\" class=\"dataframe\">\n",
       "  <thead>\n",
       "    <tr style=\"text-align: right;\">\n",
       "      <th></th>\n",
       "      <th>Unnamed: 0</th>\n",
       "      <th>Sepal.Length</th>\n",
       "      <th>Sepal.Width</th>\n",
       "      <th>Petal.Length</th>\n",
       "      <th>Petal.Width</th>\n",
       "      <th>Species</th>\n",
       "    </tr>\n",
       "  </thead>\n",
       "  <tbody>\n",
       "    <tr>\n",
       "      <th>0</th>\n",
       "      <td>1</td>\n",
       "      <td>5.1</td>\n",
       "      <td>3.5</td>\n",
       "      <td>1.4</td>\n",
       "      <td>0.2</td>\n",
       "      <td>setosa</td>\n",
       "    </tr>\n",
       "    <tr>\n",
       "      <th>1</th>\n",
       "      <td>2</td>\n",
       "      <td>4.9</td>\n",
       "      <td>3.0</td>\n",
       "      <td>1.4</td>\n",
       "      <td>0.2</td>\n",
       "      <td>setosa</td>\n",
       "    </tr>\n",
       "    <tr>\n",
       "      <th>2</th>\n",
       "      <td>3</td>\n",
       "      <td>4.7</td>\n",
       "      <td>3.2</td>\n",
       "      <td>1.3</td>\n",
       "      <td>0.2</td>\n",
       "      <td>setosa</td>\n",
       "    </tr>\n",
       "    <tr>\n",
       "      <th>3</th>\n",
       "      <td>4</td>\n",
       "      <td>4.6</td>\n",
       "      <td>3.1</td>\n",
       "      <td>1.5</td>\n",
       "      <td>0.2</td>\n",
       "      <td>setosa</td>\n",
       "    </tr>\n",
       "    <tr>\n",
       "      <th>4</th>\n",
       "      <td>5</td>\n",
       "      <td>5.0</td>\n",
       "      <td>3.6</td>\n",
       "      <td>1.4</td>\n",
       "      <td>0.2</td>\n",
       "      <td>setosa</td>\n",
       "    </tr>\n",
       "  </tbody>\n",
       "</table>\n",
       "</div>"
      ],
      "text/plain": [
       "   Unnamed: 0  Sepal.Length  Sepal.Width  Petal.Length  Petal.Width Species\n",
       "0           1           5.1          3.5           1.4          0.2  setosa\n",
       "1           2           4.9          3.0           1.4          0.2  setosa\n",
       "2           3           4.7          3.2           1.3          0.2  setosa\n",
       "3           4           4.6          3.1           1.5          0.2  setosa\n",
       "4           5           5.0          3.6           1.4          0.2  setosa"
      ]
     },
     "execution_count": 22,
     "metadata": {},
     "output_type": "execute_result"
    }
   ],
   "source": [
    "iris.head()"
   ]
  },
  {
   "cell_type": "code",
   "execution_count": 23,
   "metadata": {},
   "outputs": [
    {
     "data": {
      "text/plain": [
       "array([[  1. ,   5.1,   3.5,   1.4],\n",
       "       [  2. ,   4.9,   3. ,   1.4],\n",
       "       [  3. ,   4.7,   3.2,   1.3],\n",
       "       [  4. ,   4.6,   3.1,   1.5],\n",
       "       [  5. ,   5. ,   3.6,   1.4],\n",
       "       [  6. ,   5.4,   3.9,   1.7],\n",
       "       [  7. ,   4.6,   3.4,   1.4],\n",
       "       [  8. ,   5. ,   3.4,   1.5],\n",
       "       [  9. ,   4.4,   2.9,   1.4],\n",
       "       [ 10. ,   4.9,   3.1,   1.5],\n",
       "       [ 11. ,   5.4,   3.7,   1.5],\n",
       "       [ 12. ,   4.8,   3.4,   1.6],\n",
       "       [ 13. ,   4.8,   3. ,   1.4],\n",
       "       [ 14. ,   4.3,   3. ,   1.1],\n",
       "       [ 15. ,   5.8,   4. ,   1.2],\n",
       "       [ 16. ,   5.7,   4.4,   1.5],\n",
       "       [ 17. ,   5.4,   3.9,   1.3],\n",
       "       [ 18. ,   5.1,   3.5,   1.4],\n",
       "       [ 19. ,   5.7,   3.8,   1.7],\n",
       "       [ 20. ,   5.1,   3.8,   1.5],\n",
       "       [ 21. ,   5.4,   3.4,   1.7],\n",
       "       [ 22. ,   5.1,   3.7,   1.5],\n",
       "       [ 23. ,   4.6,   3.6,   1. ],\n",
       "       [ 24. ,   5.1,   3.3,   1.7],\n",
       "       [ 25. ,   4.8,   3.4,   1.9],\n",
       "       [ 26. ,   5. ,   3. ,   1.6],\n",
       "       [ 27. ,   5. ,   3.4,   1.6],\n",
       "       [ 28. ,   5.2,   3.5,   1.5],\n",
       "       [ 29. ,   5.2,   3.4,   1.4],\n",
       "       [ 30. ,   4.7,   3.2,   1.6],\n",
       "       [ 31. ,   4.8,   3.1,   1.6],\n",
       "       [ 32. ,   5.4,   3.4,   1.5],\n",
       "       [ 33. ,   5.2,   4.1,   1.5],\n",
       "       [ 34. ,   5.5,   4.2,   1.4],\n",
       "       [ 35. ,   4.9,   3.1,   1.5],\n",
       "       [ 36. ,   5. ,   3.2,   1.2],\n",
       "       [ 37. ,   5.5,   3.5,   1.3],\n",
       "       [ 38. ,   4.9,   3.6,   1.4],\n",
       "       [ 39. ,   4.4,   3. ,   1.3],\n",
       "       [ 40. ,   5.1,   3.4,   1.5],\n",
       "       [ 41. ,   5. ,   3.5,   1.3],\n",
       "       [ 42. ,   4.5,   2.3,   1.3],\n",
       "       [ 43. ,   4.4,   3.2,   1.3],\n",
       "       [ 44. ,   5. ,   3.5,   1.6],\n",
       "       [ 45. ,   5.1,   3.8,   1.9],\n",
       "       [ 46. ,   4.8,   3. ,   1.4],\n",
       "       [ 47. ,   5.1,   3.8,   1.6],\n",
       "       [ 48. ,   4.6,   3.2,   1.4],\n",
       "       [ 49. ,   5.3,   3.7,   1.5],\n",
       "       [ 50. ,   5. ,   3.3,   1.4],\n",
       "       [ 51. ,   7. ,   3.2,   4.7],\n",
       "       [ 52. ,   6.4,   3.2,   4.5],\n",
       "       [ 53. ,   6.9,   3.1,   4.9],\n",
       "       [ 54. ,   5.5,   2.3,   4. ],\n",
       "       [ 55. ,   6.5,   2.8,   4.6],\n",
       "       [ 56. ,   5.7,   2.8,   4.5],\n",
       "       [ 57. ,   6.3,   3.3,   4.7],\n",
       "       [ 58. ,   4.9,   2.4,   3.3],\n",
       "       [ 59. ,   6.6,   2.9,   4.6],\n",
       "       [ 60. ,   5.2,   2.7,   3.9],\n",
       "       [ 61. ,   5. ,   2. ,   3.5],\n",
       "       [ 62. ,   5.9,   3. ,   4.2],\n",
       "       [ 63. ,   6. ,   2.2,   4. ],\n",
       "       [ 64. ,   6.1,   2.9,   4.7],\n",
       "       [ 65. ,   5.6,   2.9,   3.6],\n",
       "       [ 66. ,   6.7,   3.1,   4.4],\n",
       "       [ 67. ,   5.6,   3. ,   4.5],\n",
       "       [ 68. ,   5.8,   2.7,   4.1],\n",
       "       [ 69. ,   6.2,   2.2,   4.5],\n",
       "       [ 70. ,   5.6,   2.5,   3.9],\n",
       "       [ 71. ,   5.9,   3.2,   4.8],\n",
       "       [ 72. ,   6.1,   2.8,   4. ],\n",
       "       [ 73. ,   6.3,   2.5,   4.9],\n",
       "       [ 74. ,   6.1,   2.8,   4.7],\n",
       "       [ 75. ,   6.4,   2.9,   4.3],\n",
       "       [ 76. ,   6.6,   3. ,   4.4],\n",
       "       [ 77. ,   6.8,   2.8,   4.8],\n",
       "       [ 78. ,   6.7,   3. ,   5. ],\n",
       "       [ 79. ,   6. ,   2.9,   4.5],\n",
       "       [ 80. ,   5.7,   2.6,   3.5],\n",
       "       [ 81. ,   5.5,   2.4,   3.8],\n",
       "       [ 82. ,   5.5,   2.4,   3.7],\n",
       "       [ 83. ,   5.8,   2.7,   3.9],\n",
       "       [ 84. ,   6. ,   2.7,   5.1],\n",
       "       [ 85. ,   5.4,   3. ,   4.5],\n",
       "       [ 86. ,   6. ,   3.4,   4.5],\n",
       "       [ 87. ,   6.7,   3.1,   4.7],\n",
       "       [ 88. ,   6.3,   2.3,   4.4],\n",
       "       [ 89. ,   5.6,   3. ,   4.1],\n",
       "       [ 90. ,   5.5,   2.5,   4. ],\n",
       "       [ 91. ,   5.5,   2.6,   4.4],\n",
       "       [ 92. ,   6.1,   3. ,   4.6],\n",
       "       [ 93. ,   5.8,   2.6,   4. ],\n",
       "       [ 94. ,   5. ,   2.3,   3.3],\n",
       "       [ 95. ,   5.6,   2.7,   4.2],\n",
       "       [ 96. ,   5.7,   3. ,   4.2],\n",
       "       [ 97. ,   5.7,   2.9,   4.2],\n",
       "       [ 98. ,   6.2,   2.9,   4.3],\n",
       "       [ 99. ,   5.1,   2.5,   3. ],\n",
       "       [100. ,   5.7,   2.8,   4.1],\n",
       "       [101. ,   6.3,   3.3,   6. ],\n",
       "       [102. ,   5.8,   2.7,   5.1],\n",
       "       [103. ,   7.1,   3. ,   5.9],\n",
       "       [104. ,   6.3,   2.9,   5.6],\n",
       "       [105. ,   6.5,   3. ,   5.8],\n",
       "       [106. ,   7.6,   3. ,   6.6],\n",
       "       [107. ,   4.9,   2.5,   4.5],\n",
       "       [108. ,   7.3,   2.9,   6.3],\n",
       "       [109. ,   6.7,   2.5,   5.8],\n",
       "       [110. ,   7.2,   3.6,   6.1],\n",
       "       [111. ,   6.5,   3.2,   5.1],\n",
       "       [112. ,   6.4,   2.7,   5.3],\n",
       "       [113. ,   6.8,   3. ,   5.5],\n",
       "       [114. ,   5.7,   2.5,   5. ],\n",
       "       [115. ,   5.8,   2.8,   5.1],\n",
       "       [116. ,   6.4,   3.2,   5.3],\n",
       "       [117. ,   6.5,   3. ,   5.5],\n",
       "       [118. ,   7.7,   3.8,   6.7],\n",
       "       [119. ,   7.7,   2.6,   6.9],\n",
       "       [120. ,   6. ,   2.2,   5. ],\n",
       "       [121. ,   6.9,   3.2,   5.7],\n",
       "       [122. ,   5.6,   2.8,   4.9],\n",
       "       [123. ,   7.7,   2.8,   6.7],\n",
       "       [124. ,   6.3,   2.7,   4.9],\n",
       "       [125. ,   6.7,   3.3,   5.7],\n",
       "       [126. ,   7.2,   3.2,   6. ],\n",
       "       [127. ,   6.2,   2.8,   4.8],\n",
       "       [128. ,   6.1,   3. ,   4.9],\n",
       "       [129. ,   6.4,   2.8,   5.6],\n",
       "       [130. ,   7.2,   3. ,   5.8],\n",
       "       [131. ,   7.4,   2.8,   6.1],\n",
       "       [132. ,   7.9,   3.8,   6.4],\n",
       "       [133. ,   6.4,   2.8,   5.6],\n",
       "       [134. ,   6.3,   2.8,   5.1],\n",
       "       [135. ,   6.1,   2.6,   5.6],\n",
       "       [136. ,   7.7,   3. ,   6.1],\n",
       "       [137. ,   6.3,   3.4,   5.6],\n",
       "       [138. ,   6.4,   3.1,   5.5],\n",
       "       [139. ,   6. ,   3. ,   4.8],\n",
       "       [140. ,   6.9,   3.1,   5.4],\n",
       "       [141. ,   6.7,   3.1,   5.6],\n",
       "       [142. ,   6.9,   3.1,   5.1],\n",
       "       [143. ,   5.8,   2.7,   5.1],\n",
       "       [144. ,   6.8,   3.2,   5.9],\n",
       "       [145. ,   6.7,   3.3,   5.7],\n",
       "       [146. ,   6.7,   3. ,   5.2],\n",
       "       [147. ,   6.3,   2.5,   5. ],\n",
       "       [148. ,   6.5,   3. ,   5.2],\n",
       "       [149. ,   6.2,   3.4,   5.4],\n",
       "       [150. ,   5.9,   3. ,   5.1]])"
      ]
     },
     "execution_count": 23,
     "metadata": {},
     "output_type": "execute_result"
    }
   ],
   "source": [
    "X = iris.iloc[:, 0:4].values\n",
    "X"
   ]
  },
  {
   "cell_type": "code",
   "execution_count": 24,
   "metadata": {},
   "outputs": [],
   "source": [
    "from sklearn.cluster import KMeans"
   ]
  },
  {
   "cell_type": "code",
   "execution_count": 25,
   "metadata": {},
   "outputs": [],
   "source": [
    "kmeans = KMeans(n_clusters = 3, init = 'random')"
   ]
  },
  {
   "cell_type": "code",
   "execution_count": 26,
   "metadata": {},
   "outputs": [
    {
     "data": {
      "text/plain": [
       "KMeans(algorithm='auto', copy_x=True, init='random', max_iter=300,\n",
       "    n_clusters=3, n_init=10, n_jobs=1, precompute_distances='auto',\n",
       "    random_state=None, tol=0.0001, verbose=0)"
      ]
     },
     "execution_count": 26,
     "metadata": {},
     "output_type": "execute_result"
    }
   ],
   "source": [
    "kmeans.fit(X)"
   ]
  },
  {
   "cell_type": "code",
   "execution_count": 27,
   "metadata": {},
   "outputs": [
    {
     "data": {
      "text/plain": [
       "array([[125.        ,   6.57058824,   2.97058824,   5.52352941],\n",
       "       [ 25.        ,   5.00612245,   3.43061224,   1.46326531],\n",
       "       [ 74.5       ,   5.922     ,   2.78      ,   4.206     ]])"
      ]
     },
     "execution_count": 27,
     "metadata": {},
     "output_type": "execute_result"
    }
   ],
   "source": [
    "kmeans.cluster_centers_"
   ]
  },
  {
   "cell_type": "code",
   "execution_count": 28,
   "metadata": {},
   "outputs": [
    {
     "data": {
      "text/plain": [
       "array([[ 24.00036729, 124.07838813,  73.56165931],\n",
       "       [ 23.00436244, 123.08044209,  72.56181172],\n",
       "       [ 22.00394393, 122.08763218,  71.57069596],\n",
       "       [ 21.00656063, 121.08298293,  70.56502335],\n",
       "       [ 20.00081829, 120.08274814,  69.56756514],\n",
       "       [ 19.01135207, 119.0707918 ,  68.55696113],\n",
       "       [ 18.00471813, 118.0892506 ,  67.5740758 ],\n",
       "       [ 17.00006835, 117.08048484,  66.56430665],\n",
       "       [ 16.02039126, 116.09358264,  65.57785083],\n",
       "       [ 15.00406331, 115.08256341,  64.56562026],\n",
       "       [ 14.00817828, 114.07931937,  63.56643234],\n",
       "       [ 13.00238901, 113.08277261,  62.56743978],\n",
       "       [ 12.00965927, 112.08987172,  61.57459639],\n",
       "       [ 11.03702847, 111.11131377,  60.60178644],\n",
       "       [ 10.05105729, 110.0924448 ,  59.5884999 ],\n",
       "       [  9.07868537, 109.08707499,  58.58537463],\n",
       "       [  8.02509314, 108.09288729,  57.58664533],\n",
       "       [  7.00125918, 107.09083248,  56.58018841],\n",
       "       [  6.05590263, 106.07575229,  55.56635421],\n",
       "       [  5.01463954, 105.09062443,  54.58285921],\n",
       "       [  4.02642769, 104.0777308 ,  53.56479179],\n",
       "       [  3.01375716, 103.09162653,  52.58416606],\n",
       "       [  2.09958148, 102.1212108 ,  51.62313939],\n",
       "       [  1.04015185, 101.08358185,  50.57149513],\n",
       "       [  0.48390161, 100.08221292,  49.57026246],\n",
       "       [  1.09734259,  99.09016952,  48.57921078],\n",
       "       [  2.00491171,  98.09202427,  47.58440627],\n",
       "       [  3.00728326,  97.09452908,  46.5898285 ],\n",
       "       [  4.00531249,  96.09925287,  45.59637398],\n",
       "       [  5.0165316 ,  95.09966253,  44.59496519],\n",
       "       [  6.01419049,  94.09859623,  43.59360641],\n",
       "       [  7.0112357 ,  93.09534607,  42.59377091],\n",
       "       [  8.03038093,  92.10506431,  41.61533515],\n",
       "       [  9.0465394 ,  91.10796402,  40.62410762],\n",
       "       [ 10.00609394,  90.10547376,  39.60706149],\n",
       "       [ 11.00556805,  89.11909046,  38.63046104],\n",
       "       [ 12.01146891,  88.10939017,  37.62168683],\n",
       "       [ 13.00169053,  87.11596019,  36.6311414 ],\n",
       "       [ 14.02067997,  86.13100788,  35.65192449],\n",
       "       [ 15.00036998,  85.10896435,  34.62127265],\n",
       "       [ 16.00098459,  84.12244186,  33.64614867],\n",
       "       [ 17.04585285,  83.1358841 ,  32.66415956],\n",
       "       [ 18.01241855,  82.13770318,  31.67313878],\n",
       "       [ 19.00061969,  81.11190484,  30.63347385],\n",
       "       [ 20.00839817,  80.09981597,  29.61897567],\n",
       "       [ 21.00552108,  79.12736153,  28.66061618],\n",
       "       [ 22.00372597,  78.11686525,  27.65424597],\n",
       "       [ 23.00482819,  77.13584992,  26.6842223 ],\n",
       "       [ 24.003339  ,  76.1205309 ,  25.66721099],\n",
       "       [ 25.00042199,  75.13041165,  24.68287098],\n",
       "       [ 26.27746527,  74.00618369,  23.53364655],\n",
       "       [ 27.2069446 ,  73.00773481,  22.51091557],\n",
       "       [ 28.27555874,  72.00356969,  21.53579625],\n",
       "       [ 29.13687049,  71.02757908,  20.5109951 ],\n",
       "       [ 30.20709265,  70.00633535,  19.51255288],\n",
       "       [ 31.1624918 ,  69.01329319,  18.50367855],\n",
       "       [ 32.18955778,  68.00632273,  17.5187705 ],\n",
       "       [ 33.06731041,  67.06012615,  16.56078863],\n",
       "       [ 34.18568559,  66.00650539,  15.52028737],\n",
       "       [ 35.09286336,  65.03527949,  14.52140902],\n",
       "       [ 36.08593877,  64.05859396,  13.572285  ],\n",
       "       [ 37.11433902,  63.01747602,  12.50195665],\n",
       "       [ 38.11741363,  62.02612771,  11.51672349],\n",
       "       [ 39.15296373,  61.0074146 ,  10.51380616],\n",
       "       [ 40.06494571,  60.03871242,   9.52550891],\n",
       "       [ 41.14125589,  59.01098045,   8.54372986],\n",
       "       [ 42.11602872,  58.01715711,   7.51588451],\n",
       "       [ 43.09427347,  57.02362195,   6.50250106],\n",
       "       [ 44.1379826 ,  56.01587948,   5.54527907],\n",
       "       [ 45.07944549,  55.03452864,   4.53053198],\n",
       "       [ 46.13009861,  54.00949743,   3.57487342],\n",
       "       [ 47.08534021,  53.02425573,   2.51485984],\n",
       "       [ 48.14926068,  52.00657132,   1.71840624],\n",
       "       [ 49.1230159 ,  51.00910462,   0.7253413 ],\n",
       "       [ 50.10260979,  50.01530873,   0.70832196],\n",
       "       [ 51.11115615,  49.01289676,   1.67204067],\n",
       "       [ 52.14162892,  48.00630401,   2.7155331 ],\n",
       "       [ 53.14661927,  47.00310304,   3.67887483],\n",
       "       [ 54.0970526 ,  46.01497763,   4.51186436],\n",
       "       [ 55.0483394 ,  45.05540956,   5.55248773],\n",
       "       [ 56.06038178,  44.05045157,   6.53737868],\n",
       "       [ 57.05531578,  43.05574282,   7.53846934],\n",
       "       [ 58.06118938,  42.03930152,   8.50675731],\n",
       "       [ 59.1248461 ,  41.0070502 ,   9.54262647],\n",
       "       [ 60.07963319,  40.03022301,  10.51937831],\n",
       "       [ 61.08363518,  39.01996384,  11.52071699],\n",
       "       [ 62.10841309,  38.00936326,  12.53801101],\n",
       "       [ 63.09181257,  37.0241168 ,  13.51521069],\n",
       "       [ 64.0584927 ,  36.04121727,  14.50563063],\n",
       "       [ 65.0580124 ,  35.05265688,  15.50963958],\n",
       "       [ 66.07237125,  34.03741784,  16.50751708],\n",
       "       [ 67.08368728,  33.01628727,  17.50672214],\n",
       "       [ 68.0569995 ,  32.04765645,  18.50242471],\n",
       "       [ 69.03370131,  31.12652436,  19.548691  ],\n",
       "       [ 70.05980446,  30.0460811 ,  20.50268568],\n",
       "       [ 71.0574177 ,  29.04325256,  21.50227244],\n",
       "       [ 72.05728785,  28.04486828,  22.50141596],\n",
       "       [ 73.06677738,  27.03034115,  23.50213863],\n",
       "       [ 74.02186438,  26.16777185,  24.54503045],\n",
       "       [ 75.05219189,  25.05620602,  25.50119448],\n",
       "       [ 76.14639283,  24.0085142 ,  26.56843465],\n",
       "       [ 77.09338412,  23.01839268,  27.5149145 ],\n",
       "       [ 78.15532205,  22.00960863,  28.5754391 ],\n",
       "       [ 79.12059304,  21.00200106,  29.53558058],\n",
       "       [ 80.13254248,  20.00205699,  30.54788569],\n",
       "       [ 81.20529337,  19.05831426,  31.63613946],\n",
       "       [ 82.06155652,  18.11242476,  32.5185996 ],\n",
       "       [ 83.17413917,  17.03349438,  33.59387027],\n",
       "       [ 84.13407471,  16.00982938,  34.54670057],\n",
       "       [ 85.15480667,  15.03744116,  35.58290207],\n",
       "       [ 86.09013121,  14.00846136,  36.51793696],\n",
       "       [ 87.09877853,  13.00585575,  37.51908474],\n",
       "       [ 88.11185307,  12.00225181,  38.53237236],\n",
       "       [ 89.07780867,  11.05682867,  39.50959529],\n",
       "       [ 90.07915271,  10.04003405,  40.51005455],\n",
       "       [ 91.0918032 ,   9.00731345,  41.51929335],\n",
       "       [ 92.10164127,   8.00040008,  42.52419217],\n",
       "       [ 93.18699917,   7.2351626 ,  43.6196254 ],\n",
       "       [ 94.19928332,   6.26957557,  44.61727603],\n",
       "       [ 95.07897082,   5.11795469,  45.51069017],\n",
       "       [ 96.11238149,   4.02396368,  46.53616787],\n",
       "       [ 97.06472844,   3.21868464,  47.50616507],\n",
       "       [ 98.17880646,   2.58626262,  48.59662252],\n",
       "       [ 99.07077803,   1.23904193,  49.50637252],\n",
       "       [100.1041268 ,   0.39547615,  50.53076014],\n",
       "       [101.12590293,   1.29453202,  51.54879358],\n",
       "       [102.06349403,   2.1656248 ,  52.50410003],\n",
       "       [103.06402447,   3.10017859,  53.50524946],\n",
       "       [104.0934827 ,   4.00799806,  54.51992406],\n",
       "       [105.11329979,   5.04712395,  55.53802769],\n",
       "       [106.130239  ,   6.08681711,  56.55105764],\n",
       "       [107.15354555,   7.22658012,  57.58486364],\n",
       "       [108.09002332,   8.00400203,  58.51856218],\n",
       "       [109.07015004,   9.01563617,  59.50791981],\n",
       "       [110.08632548,  10.01821524,  60.51658715],\n",
       "       [111.1302916 ,  11.07288374,  61.55523471],\n",
       "       [112.08384197,  12.01097249,  62.51976104],\n",
       "       [113.08115416,  13.00178455,  63.51578796],\n",
       "       [114.05396538,  14.03032184,  64.50315744],\n",
       "       [115.08342173,  15.00468324,  65.51896306],\n",
       "       [116.08656727,  16.00122941,  66.51992874],\n",
       "       [117.07229354,  17.00895754,  67.51376245],\n",
       "       [118.0609583 ,  18.02349581,  68.50598894],\n",
       "       [119.09641386,  19.00649862,  69.52745443],\n",
       "       [120.08678612,  20.00390965,  70.52203712],\n",
       "       [121.07030121,  21.00291132,  71.51147964],\n",
       "       [122.06165922,  22.01292244,  72.50587369],\n",
       "       [123.0665685 ,  23.00240246,  73.50932267],\n",
       "       [124.06822382,  24.00701959,  74.5126655 ],\n",
       "       [125.05682822,  25.01259544,  75.50561648]])"
      ]
     },
     "execution_count": 28,
     "metadata": {},
     "output_type": "execute_result"
    }
   ],
   "source": [
    "distance = kmeans.fit_transform(X)\n",
    "distance"
   ]
  },
  {
   "cell_type": "code",
   "execution_count": 29,
   "metadata": {},
   "outputs": [
    {
     "data": {
      "text/plain": [
       "array([0, 0, 0, 0, 0, 0, 0, 0, 0, 0, 0, 0, 0, 0, 0, 0, 0, 0, 0, 0, 0, 0,\n",
       "       0, 0, 0, 0, 0, 0, 0, 0, 0, 0, 0, 0, 0, 0, 0, 0, 0, 0, 0, 0, 0, 0,\n",
       "       0, 0, 0, 0, 0, 2, 2, 2, 2, 2, 2, 2, 2, 2, 2, 2, 2, 2, 2, 2, 2, 2,\n",
       "       2, 2, 2, 2, 2, 2, 2, 2, 2, 2, 2, 2, 2, 2, 2, 2, 2, 2, 2, 2, 2, 2,\n",
       "       2, 2, 2, 2, 2, 2, 2, 2, 2, 2, 2, 1, 1, 1, 1, 1, 1, 1, 1, 1, 1, 1,\n",
       "       1, 1, 1, 1, 1, 1, 1, 1, 1, 1, 1, 1, 1, 1, 1, 1, 1, 1, 1, 1, 1, 1,\n",
       "       1, 1, 1, 1, 1, 1, 1, 1, 1, 1, 1, 1, 1, 1, 1, 1, 1, 1])"
      ]
     },
     "execution_count": 29,
     "metadata": {},
     "output_type": "execute_result"
    }
   ],
   "source": [
    "labels = kmeans.labels_\n",
    "labels"
   ]
  },
  {
   "cell_type": "code",
   "execution_count": 30,
   "metadata": {},
   "outputs": [
    {
     "name": "stdout",
     "output_type": "stream",
     "text": [
      "1 281832.3006666667\n",
      "2 70581.716\n",
      "3 31357.583651860747\n",
      "4 17777.70359649123\n",
      "5 11423.017048572488\n",
      "6 7922.740225641026\n",
      "7 5913.088605456329\n",
      "8 4613.630489360657\n",
      "9 3647.949822509706\n",
      "10 2982.2477250861884\n"
     ]
    },
    {
     "data": {
      "image/png": "[encoded data removed]",
      "text/plain": [
       "<Figure size 432x288 with 1 Axes>"
      ]
     },
     "metadata": {
      "needs_background": "light"
     },
     "output_type": "display_data"
    }
   ],
   "source": [
    "from sklearn.cluster import KMeans\n",
    "wcss = []\n",
    "\n",
    "for i in range(1,11):\n",
    "    kmeans = KMeans(n_clusters = i, init = 'random')\n",
    "    kmeans.fit(X)\n",
    "    print (i,kmeans.inertia_)\n",
    "    wcss.append(kmeans.inertia_)\n",
    "plt.plot(range(1,11), wcss)\n",
    "plt.title('O metodo Elbow')\n",
    "plt.xlabel('Numero de Clusters')\n",
    "plt.ylabel('WSS')\n",
    "plt.show()"
   ]
  },
  {
   "cell_type": "code",
   "execution_count": 50,
   "metadata": {},
   "outputs": [
    {
     "data": {
      "image/png": "[encoded data removed]",
      "text/plain": [
       "<Figure size 432x288 with 1 Axes>"
      ]
     },
     "metadata": {
      "needs_background": "light"
     },
     "output_type": "display_data"
    }
   ],
   "source": [
    "\n",
    "plt.scatter(X[:, 0], X[:,1], s = 100, c = kmeans.labels_)\n",
    "plt.scatter(kmeans.cluster_centers_[:, 0], kmeans.cluster_centers_[:, 1], s = 300, c = 'red',label = 'Centroids')\n",
    "plt.title('Iris Clusters and Centroids')\n",
    "plt.xlabel('SepalLength')\n",
    "plt.ylabel('SepalWidth')\n",
    "plt.show()"
   ]
  },
  {
   "cell_type": "code",
   "execution_count": null,
   "metadata": {},
   "outputs": [],
   "source": []
  }
 ],
 "metadata": {
  "kernelspec": {
   "display_name": "Python 3",
   "language": "python",
   "name": "python3"
  },
  "language_info": {
   "codemirror_mode": {
    "name": "ipython",
    "version": 3
   },
   "file_extension": ".py",
   "mimetype": "text/x-python",
   "name": "python",
   "nbconvert_exporter": "python",
   "pygments_lexer": "ipython3",
   "version": "3.7.0"
  }
 },
 "nbformat": 4,
 "nbformat_minor": 2
}
